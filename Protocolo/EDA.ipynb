{
 "cells": [
  {
   "attachments": {},
   "cell_type": "markdown",
   "metadata": {},
   "source": [
    "## Base de datos de quejas del consumidor\n",
    "\n",
    "* Anális exploratorio de los datos EDA"
   ]
  },
  {
   "cell_type": "code",
   "execution_count": 17,
   "metadata": {},
   "outputs": [],
   "source": [
    "# Vamos a importar las librerias\n",
    "import pandas as pd\n",
    "import numpy as np\n",
    "import seaborn as sns"
   ]
  },
  {
   "cell_type": "code",
   "execution_count": 18,
   "metadata": {},
   "outputs": [
    {
     "name": "stderr",
     "output_type": "stream",
     "text": [
      "c:\\Users\\Alejo\\anaconda3\\lib\\site-packages\\IPython\\core\\interactiveshell.py:3444: DtypeWarning: Columns (16) have mixed types.Specify dtype option on import or set low_memory=False.\n",
      "  exec(code_obj, self.user_global_ns, self.user_ns)\n"
     ]
    },
    {
     "data": {
      "text/html": [
       "<div>\n",
       "<style scoped>\n",
       "    .dataframe tbody tr th:only-of-type {\n",
       "        vertical-align: middle;\n",
       "    }\n",
       "\n",
       "    .dataframe tbody tr th {\n",
       "        vertical-align: top;\n",
       "    }\n",
       "\n",
       "    .dataframe thead th {\n",
       "        text-align: right;\n",
       "    }\n",
       "</style>\n",
       "<table border=\"1\" class=\"dataframe\">\n",
       "  <thead>\n",
       "    <tr style=\"text-align: right;\">\n",
       "      <th></th>\n",
       "      <th>Date received</th>\n",
       "      <th>Product</th>\n",
       "      <th>Sub-product</th>\n",
       "      <th>Issue</th>\n",
       "      <th>Sub-issue</th>\n",
       "      <th>Consumer complaint narrative</th>\n",
       "      <th>Company public response</th>\n",
       "      <th>Company</th>\n",
       "      <th>State</th>\n",
       "      <th>ZIP code</th>\n",
       "      <th>Tags</th>\n",
       "      <th>Consumer consent provided?</th>\n",
       "      <th>Submitted via</th>\n",
       "      <th>Date sent to company</th>\n",
       "      <th>Company response to consumer</th>\n",
       "      <th>Timely response?</th>\n",
       "      <th>Consumer disputed?</th>\n",
       "      <th>Complaint ID</th>\n",
       "    </tr>\n",
       "  </thead>\n",
       "  <tbody>\n",
       "    <tr>\n",
       "      <th>0</th>\n",
       "      <td>2023-05-13</td>\n",
       "      <td>Credit reporting, credit repair services, or o...</td>\n",
       "      <td>Credit reporting</td>\n",
       "      <td>Incorrect information on your report</td>\n",
       "      <td>Information belongs to someone else</td>\n",
       "      <td>This is my Follow-up request that I have been ...</td>\n",
       "      <td>Company has responded to the consumer and the ...</td>\n",
       "      <td>TRANSUNION INTERMEDIATE HOLDINGS, INC.</td>\n",
       "      <td>TX</td>\n",
       "      <td>75050</td>\n",
       "      <td>NaN</td>\n",
       "      <td>Consent provided</td>\n",
       "      <td>Web</td>\n",
       "      <td>2023-05-13</td>\n",
       "      <td>Closed with non-monetary relief</td>\n",
       "      <td>Yes</td>\n",
       "      <td>NaN</td>\n",
       "      <td>6969093</td>\n",
       "    </tr>\n",
       "    <tr>\n",
       "      <th>1</th>\n",
       "      <td>2023-06-15</td>\n",
       "      <td>Credit reporting, credit repair services, or o...</td>\n",
       "      <td>Credit reporting</td>\n",
       "      <td>Problem with a credit reporting company's inve...</td>\n",
       "      <td>Their investigation did not fix an error on yo...</td>\n",
       "      <td>NaN</td>\n",
       "      <td>NaN</td>\n",
       "      <td>Experian Information Solutions Inc.</td>\n",
       "      <td>FL</td>\n",
       "      <td>33025</td>\n",
       "      <td>NaN</td>\n",
       "      <td>NaN</td>\n",
       "      <td>Web</td>\n",
       "      <td>2023-06-15</td>\n",
       "      <td>In progress</td>\n",
       "      <td>Yes</td>\n",
       "      <td>NaN</td>\n",
       "      <td>7124177</td>\n",
       "    </tr>\n",
       "    <tr>\n",
       "      <th>2</th>\n",
       "      <td>2023-06-15</td>\n",
       "      <td>Credit reporting, credit repair services, or o...</td>\n",
       "      <td>Credit reporting</td>\n",
       "      <td>Problem with a credit reporting company's inve...</td>\n",
       "      <td>Their investigation did not fix an error on yo...</td>\n",
       "      <td>NaN</td>\n",
       "      <td>NaN</td>\n",
       "      <td>Experian Information Solutions Inc.</td>\n",
       "      <td>NY</td>\n",
       "      <td>10467</td>\n",
       "      <td>NaN</td>\n",
       "      <td>NaN</td>\n",
       "      <td>Web</td>\n",
       "      <td>2023-06-15</td>\n",
       "      <td>In progress</td>\n",
       "      <td>Yes</td>\n",
       "      <td>NaN</td>\n",
       "      <td>7124222</td>\n",
       "    </tr>\n",
       "    <tr>\n",
       "      <th>3</th>\n",
       "      <td>2023-06-15</td>\n",
       "      <td>Credit reporting, credit repair services, or o...</td>\n",
       "      <td>Credit reporting</td>\n",
       "      <td>Problem with a credit reporting company's inve...</td>\n",
       "      <td>Their investigation did not fix an error on yo...</td>\n",
       "      <td>NaN</td>\n",
       "      <td>Company has responded to the consumer and the ...</td>\n",
       "      <td>Experian Information Solutions Inc.</td>\n",
       "      <td>TX</td>\n",
       "      <td>75150</td>\n",
       "      <td>NaN</td>\n",
       "      <td>Consent not provided</td>\n",
       "      <td>Web</td>\n",
       "      <td>2023-06-15</td>\n",
       "      <td>Closed with non-monetary relief</td>\n",
       "      <td>Yes</td>\n",
       "      <td>NaN</td>\n",
       "      <td>7116384</td>\n",
       "    </tr>\n",
       "    <tr>\n",
       "      <th>4</th>\n",
       "      <td>2023-06-14</td>\n",
       "      <td>Credit reporting, credit repair services, or o...</td>\n",
       "      <td>Credit reporting</td>\n",
       "      <td>Incorrect information on your report</td>\n",
       "      <td>Information belongs to someone else</td>\n",
       "      <td>NaN</td>\n",
       "      <td>NaN</td>\n",
       "      <td>Experian Information Solutions Inc.</td>\n",
       "      <td>AL</td>\n",
       "      <td>36207</td>\n",
       "      <td>NaN</td>\n",
       "      <td>NaN</td>\n",
       "      <td>Web</td>\n",
       "      <td>2023-06-14</td>\n",
       "      <td>In progress</td>\n",
       "      <td>Yes</td>\n",
       "      <td>NaN</td>\n",
       "      <td>7119036</td>\n",
       "    </tr>\n",
       "  </tbody>\n",
       "</table>\n",
       "</div>"
      ],
      "text/plain": [
       "  Date received                                            Product  \\\n",
       "0    2023-05-13  Credit reporting, credit repair services, or o...   \n",
       "1    2023-06-15  Credit reporting, credit repair services, or o...   \n",
       "2    2023-06-15  Credit reporting, credit repair services, or o...   \n",
       "3    2023-06-15  Credit reporting, credit repair services, or o...   \n",
       "4    2023-06-14  Credit reporting, credit repair services, or o...   \n",
       "\n",
       "        Sub-product                                              Issue  \\\n",
       "0  Credit reporting               Incorrect information on your report   \n",
       "1  Credit reporting  Problem with a credit reporting company's inve...   \n",
       "2  Credit reporting  Problem with a credit reporting company's inve...   \n",
       "3  Credit reporting  Problem with a credit reporting company's inve...   \n",
       "4  Credit reporting               Incorrect information on your report   \n",
       "\n",
       "                                           Sub-issue  \\\n",
       "0                Information belongs to someone else   \n",
       "1  Their investigation did not fix an error on yo...   \n",
       "2  Their investigation did not fix an error on yo...   \n",
       "3  Their investigation did not fix an error on yo...   \n",
       "4                Information belongs to someone else   \n",
       "\n",
       "                        Consumer complaint narrative  \\\n",
       "0  This is my Follow-up request that I have been ...   \n",
       "1                                                NaN   \n",
       "2                                                NaN   \n",
       "3                                                NaN   \n",
       "4                                                NaN   \n",
       "\n",
       "                             Company public response  \\\n",
       "0  Company has responded to the consumer and the ...   \n",
       "1                                                NaN   \n",
       "2                                                NaN   \n",
       "3  Company has responded to the consumer and the ...   \n",
       "4                                                NaN   \n",
       "\n",
       "                                  Company State ZIP code Tags  \\\n",
       "0  TRANSUNION INTERMEDIATE HOLDINGS, INC.    TX    75050  NaN   \n",
       "1     Experian Information Solutions Inc.    FL    33025  NaN   \n",
       "2     Experian Information Solutions Inc.    NY    10467  NaN   \n",
       "3     Experian Information Solutions Inc.    TX    75150  NaN   \n",
       "4     Experian Information Solutions Inc.    AL    36207  NaN   \n",
       "\n",
       "  Consumer consent provided? Submitted via Date sent to company  \\\n",
       "0           Consent provided           Web           2023-05-13   \n",
       "1                        NaN           Web           2023-06-15   \n",
       "2                        NaN           Web           2023-06-15   \n",
       "3       Consent not provided           Web           2023-06-15   \n",
       "4                        NaN           Web           2023-06-14   \n",
       "\n",
       "      Company response to consumer Timely response? Consumer disputed?  \\\n",
       "0  Closed with non-monetary relief              Yes                NaN   \n",
       "1                      In progress              Yes                NaN   \n",
       "2                      In progress              Yes                NaN   \n",
       "3  Closed with non-monetary relief              Yes                NaN   \n",
       "4                      In progress              Yes                NaN   \n",
       "\n",
       "   Complaint ID  \n",
       "0       6969093  \n",
       "1       7124177  \n",
       "2       7124222  \n",
       "3       7116384  \n",
       "4       7119036  "
      ]
     },
     "execution_count": 18,
     "metadata": {},
     "output_type": "execute_result"
    }
   ],
   "source": [
    "#Vamos a leer los archivos\n",
    "path = '../BD/complaints.csv'\n",
    "bd = pd.read_csv(path)\n",
    "bd.head()"
   ]
  },
  {
   "cell_type": "code",
   "execution_count": 7,
   "metadata": {},
   "outputs": [
    {
     "name": "stdout",
     "output_type": "stream",
     "text": [
      "Número de filas y columnas: (3774021, 18)\n",
      "Nombre de columnas: Index(['Date received', 'Product', 'Sub-product', 'Issue', 'Sub-issue',\n",
      "       'Consumer complaint narrative', 'Company public response', 'Company',\n",
      "       'State', 'ZIP code', 'Tags', 'Consumer consent provided?',\n",
      "       'Submitted via', 'Date sent to company', 'Company response to consumer',\n",
      "       'Timely response?', 'Consumer disputed?', 'Complaint ID'],\n",
      "      dtype='object')\n"
     ]
    }
   ],
   "source": [
    "print(\"Número de filas y columnas:\", bd.shape)\n",
    "print(\"Nombre de columnas:\", bd.columns)"
   ]
  },
  {
   "cell_type": "code",
   "execution_count": 8,
   "metadata": {},
   "outputs": [
    {
     "name": "stdout",
     "output_type": "stream",
     "text": [
      "La columna Date received y Date sent to company esta teniendo problemas de formato en la lectura del archivo\n",
      "<class 'pandas.core.frame.DataFrame'>\n",
      "RangeIndex: 3774021 entries, 0 to 3774020\n",
      "Data columns (total 18 columns):\n",
      " #   Column                        Dtype \n",
      "---  ------                        ----- \n",
      " 0   Date received                 object\n",
      " 1   Product                       object\n",
      " 2   Sub-product                   object\n",
      " 3   Issue                         object\n",
      " 4   Sub-issue                     object\n",
      " 5   Consumer complaint narrative  object\n",
      " 6   Company public response       object\n",
      " 7   Company                       object\n",
      " 8   State                         object\n",
      " 9   ZIP code                      object\n",
      " 10  Tags                          object\n",
      " 11  Consumer consent provided?    object\n",
      " 12  Submitted via                 object\n",
      " 13  Date sent to company          object\n",
      " 14  Company response to consumer  object\n",
      " 15  Timely response?              object\n",
      " 16  Consumer disputed?            object\n",
      " 17  Complaint ID                  int64 \n",
      "dtypes: int64(1), object(17)\n",
      "memory usage: 518.3+ MB\n"
     ]
    }
   ],
   "source": [
    "print(\"La columna Date received y Date sent to company esta teniendo problemas de formato en la lectura del archivo\")\n",
    "bd.info()"
   ]
  },
  {
   "cell_type": "code",
   "execution_count": 9,
   "metadata": {},
   "outputs": [
    {
     "name": "stdout",
     "output_type": "stream",
     "text": [
      "Cantidad de nulos por columna: Date received                         0\n",
      "Product                               0\n",
      "Sub-product                      235291\n",
      "Issue                                 0\n",
      "Sub-issue                        711728\n",
      "Consumer complaint narrative    2408081\n",
      "Company public response         2053018\n",
      "Company                               0\n",
      "State                             41652\n",
      "ZIP code                          30194\n",
      "Tags                            3368761\n",
      "Consumer consent provided?       878536\n",
      "Submitted via                         0\n",
      "Date sent to company                  0\n",
      "Company response to consumer          5\n",
      "Timely response?                      0\n",
      "Consumer disputed?              3005663\n",
      "Complaint ID                          0\n",
      "dtype: int64\n"
     ]
    }
   ],
   "source": [
    "print(\"Cantidad de nulos por columna:\", bd.isnull().sum())"
   ]
  },
  {
   "cell_type": "code",
   "execution_count": 10,
   "metadata": {},
   "outputs": [
    {
     "name": "stdout",
     "output_type": "stream",
     "text": [
      "Valores duplicados por ID : 0\n",
      "Número de ID'S únicos : 3774021\n"
     ]
    }
   ],
   "source": [
    "print(\"Valores duplicados por ID :\", bd.duplicated().sum())\n",
    "print(\"Número de ID'S únicos :\", bd['Complaint ID'].value_counts().sum())"
   ]
  },
  {
   "cell_type": "code",
   "execution_count": 11,
   "metadata": {},
   "outputs": [
    {
     "name": "stdout",
     "output_type": "stream",
     "text": [
      "Las cantidad de empresas a las que se les levantaron algun tipo de queja son : 6796\n",
      "De las 6796 empresas 94.47  porciento esta representado por 400 empresas lo que equivale a  5.89 de las empresas en la base de datos\n"
     ]
    }
   ],
   "source": [
    "print(\"Las cantidad de empresas a las que se les levantaron algun tipo de queja son :\", bd['Company'].value_counts().count())\n",
    "print(\"De las 6796 empresas\", round((bd['Company'].value_counts().head(400).sum() /  bd['Complaint ID'].value_counts().sum())*100,2), \" porciento esta representado por 400 empresas lo que equivale a \", round((400/bd['Company'].value_counts().count())*100,2) ,\"de las empresas en la base de datos\")"
   ]
  },
  {
   "cell_type": "code",
   "execution_count": 12,
   "metadata": {},
   "outputs": [
    {
     "name": "stdout",
     "output_type": "stream",
     "text": [
      "Las número de estados en los que se levantan las quejas : 63\n",
      "De los 63 estados 95.25  porciento esta representado por 34 empresas lo que equivale a  53.97 de los estados en la base de datos\n"
     ]
    }
   ],
   "source": [
    "print(\"Las número de estados en los que se levantan las quejas :\", bd['State'].value_counts().count())\n",
    "print(\"De los\", bd['State'].value_counts().count(), \"estados\", round((bd['State'].value_counts().head(34).sum() /  bd['Complaint ID'].value_counts().sum())*100,2), \" porciento esta representado por 34 empresas lo que equivale a \", round((34/bd['State'].value_counts().count())*100,2) ,\"de los estados en la base de datos\")"
   ]
  },
  {
   "cell_type": "code",
   "execution_count": 21,
   "metadata": {},
   "outputs": [
    {
     "name": "stdout",
     "output_type": "stream",
     "text": [
      "Existen 3 publicos que se estan viendo afectados Older American:  1006 , Servicemember: 1833  y Older American, Servicemember 281\n"
     ]
    }
   ],
   "source": [
    "print(\"Existen 3 publicos que se estan viendo afectados Older American: \", bd[bd['Tags']=='Older American'].value_counts().count(), \", Servicemember:\" , bd[bd['Tags']=='Servicemember'].value_counts().count(),\" y Older American, Servicemember\", bd[bd['Tags']=='Older American, Servicemember'].value_counts().count())"
   ]
  },
  {
   "cell_type": "code",
   "execution_count": 30,
   "metadata": {},
   "outputs": [
    {
     "name": "stdout",
     "output_type": "stream",
     "text": [
      "Las número de canales por los que se levantan las quejas : 7\n",
      "De los 7 canales de atencion 92.67  porciento esta representado por 2 canales lo que equivale a  28.57 de los canales en la base de datos\n"
     ]
    }
   ],
   "source": [
    "print(\"Las número de canales por los que se levantan las quejas :\", bd['Submitted via'].value_counts().count())\n",
    "print(\"De los\", bd['Submitted via'].value_counts().count(), \"canales de atencion\", round((bd['Submitted via'].value_counts().head(2).sum() /  bd['Complaint ID'].value_counts().sum())*100,2), \" porciento esta representado por 2 canales lo que equivale a \", round((2/bd['Submitted via'].value_counts().count())*100,2) ,\"de los canales en la base de datos\")"
   ]
  },
  {
   "cell_type": "code",
   "execution_count": 22,
   "metadata": {},
   "outputs": [
    {
     "name": "stdout",
     "output_type": "stream",
     "text": [
      "Cantidad de respuestas oportunas por parte del cliente:  2981\n"
     ]
    }
   ],
   "source": [
    "print(\"Cantidad de respuestas oportunas por parte del cliente: \", bd[bd['Timely response?']=='Yes'].value_counts().count())"
   ]
  },
  {
   "cell_type": "code",
   "execution_count": 23,
   "metadata": {},
   "outputs": [
    {
     "name": "stdout",
     "output_type": "stream",
     "text": [
      "Cantidad de respuestas correctas para el consumidor:  666\n"
     ]
    }
   ],
   "source": [
    "print(\"Cantidad de respuestas correctas para el consumidor: \", bd[bd['Consumer disputed?']=='Yes'].value_counts().count())"
   ]
  }
 ],
 "metadata": {
  "kernelspec": {
   "display_name": "base",
   "language": "python",
   "name": "python3"
  },
  "language_info": {
   "codemirror_mode": {
    "name": "ipython",
    "version": 3
   },
   "file_extension": ".py",
   "mimetype": "text/x-python",
   "name": "python",
   "nbconvert_exporter": "python",
   "pygments_lexer": "ipython3",
   "version": "3.9.7"
  },
  "orig_nbformat": 4
 },
 "nbformat": 4,
 "nbformat_minor": 2
}
